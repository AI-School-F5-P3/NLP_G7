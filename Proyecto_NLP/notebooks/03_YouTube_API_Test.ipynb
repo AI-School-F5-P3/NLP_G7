{
 "cells": [
  {
   "cell_type": "code",
   "execution_count": 1,
   "metadata": {},
   "outputs": [
    {
     "name": "stdout",
     "output_type": "stream",
     "text": [
      "src.features.enhanced_features\n",
      "EnhancedFeatureExtractor\n"
     ]
    }
   ],
   "source": [
    "# Run this in a new notebook cell to debug:\n",
    "import sys\n",
    "from pathlib import Path\n",
    "PROJECT_ROOT = Path().resolve().parent\n",
    "sys.path.insert(0, str(PROJECT_ROOT))\n",
    "\n",
    "# Try importing directly\n",
    "from src.features.enhanced_features import EnhancedFeatureExtractor\n",
    "\n",
    "# Print the class details\n",
    "print(EnhancedFeatureExtractor.__module__)\n",
    "print(EnhancedFeatureExtractor.__name__)"
   ]
  }
 ],
 "metadata": {
  "kernelspec": {
   "display_name": ".venv",
   "language": "python",
   "name": "python3"
  },
  "language_info": {
   "codemirror_mode": {
    "name": "ipython",
    "version": 3
   },
   "file_extension": ".py",
   "mimetype": "text/x-python",
   "name": "python",
   "nbconvert_exporter": "python",
   "pygments_lexer": "ipython3",
   "version": "3.11.7"
  }
 },
 "nbformat": 4,
 "nbformat_minor": 2
}
